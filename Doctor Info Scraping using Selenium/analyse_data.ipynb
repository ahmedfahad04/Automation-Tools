{
 "cells": [
  {
   "cell_type": "code",
   "execution_count": 1,
   "metadata": {},
   "outputs": [],
   "source": [
    "import pandas as pd"
   ]
  },
  {
   "cell_type": "code",
   "execution_count": 3,
   "metadata": {},
   "outputs": [
    {
     "data": {
      "text/html": [
       "<div>\n",
       "<style scoped>\n",
       "    .dataframe tbody tr th:only-of-type {\n",
       "        vertical-align: middle;\n",
       "    }\n",
       "\n",
       "    .dataframe tbody tr th {\n",
       "        vertical-align: top;\n",
       "    }\n",
       "\n",
       "    .dataframe thead th {\n",
       "        text-align: right;\n",
       "    }\n",
       "</style>\n",
       "<table border=\"1\" class=\"dataframe\">\n",
       "  <thead>\n",
       "    <tr style=\"text-align: right;\">\n",
       "      <th></th>\n",
       "      <th>Specialities</th>\n",
       "      <th>Diseases</th>\n",
       "    </tr>\n",
       "  </thead>\n",
       "  <tbody>\n",
       "    <tr>\n",
       "      <th>0</th>\n",
       "      <td>Medicine</td>\n",
       "      <td>'Fungal infection|Allergy|GERD|Chronic cholest...</td>\n",
       "    </tr>\n",
       "    <tr>\n",
       "      <th>1</th>\n",
       "      <td>Cardiology, Medicine</td>\n",
       "      <td>'Heart attack|Hypertension '</td>\n",
       "    </tr>\n",
       "    <tr>\n",
       "      <th>2</th>\n",
       "      <td>Medicine, Liver Medicine, Hepatology</td>\n",
       "      <td>'Chronic cholestasis|Hepatitis A|Hepatitis B|H...</td>\n",
       "    </tr>\n",
       "    <tr>\n",
       "      <th>3</th>\n",
       "      <td>Medicine, Cardiology</td>\n",
       "      <td>'Heart attack|Hypertension'</td>\n",
       "    </tr>\n",
       "    <tr>\n",
       "      <th>4</th>\n",
       "      <td>Medicine, Rheumatology Medicine</td>\n",
       "      <td>'Arthritis|Osteoarthritis'</td>\n",
       "    </tr>\n",
       "  </tbody>\n",
       "</table>\n",
       "</div>"
      ],
      "text/plain": [
       "                           Specialities  \\\n",
       "0                              Medicine   \n",
       "1                  Cardiology, Medicine   \n",
       "2  Medicine, Liver Medicine, Hepatology   \n",
       "3                  Medicine, Cardiology   \n",
       "4       Medicine, Rheumatology Medicine   \n",
       "\n",
       "                                            Diseases  \n",
       "0  'Fungal infection|Allergy|GERD|Chronic cholest...  \n",
       "1                       'Heart attack|Hypertension '  \n",
       "2  'Chronic cholestasis|Hepatitis A|Hepatitis B|H...  \n",
       "3                        'Heart attack|Hypertension'  \n",
       "4                         'Arthritis|Osteoarthritis'  "
      ]
     },
     "execution_count": 3,
     "metadata": {},
     "output_type": "execute_result"
    }
   ],
   "source": [
    "# df_doctor  = pd.read_csv('../all_doctors.csv')\n",
    "df_map = pd.read_csv('./specialist-to-disease-map.csv')\n",
    "df_dis = pd.read_csv('./Prototype-1.csv')\n",
    "df_dis2 = pd.read_csv('./Prototype.csv')\n",
    "df_map.head()"
   ]
  },
  {
   "cell_type": "code",
   "execution_count": 4,
   "metadata": {},
   "outputs": [
    {
     "data": {
      "text/plain": [
       "array(['Fungal infection', 'Allergy', 'GERD', 'Chronic cholestasis',\n",
       "       'Drug Reaction', 'Peptic ulcer diseae', 'AIDS', 'Diabetes ',\n",
       "       'Gastroenteritis', 'Bronchial Asthma', 'Hypertension ', 'Migraine',\n",
       "       'Cervical spondylosis', 'Paralysis (brain hemorrhage)', 'Jaundice',\n",
       "       'Malaria', 'Chicken pox', 'Dengue', 'Typhoid', 'hepatitis A',\n",
       "       'Hepatitis B', 'Hepatitis C', 'Hepatitis D', 'Hepatitis E',\n",
       "       'Alcoholic hepatitis', 'Tuberculosis', 'Common Cold', 'Pneumonia',\n",
       "       'Dimorphic hemmorhoids(piles)', 'Heart attack', 'Varicose veins',\n",
       "       'Hypothyroidism', 'Hyperthyroidism', 'Hypoglycemia',\n",
       "       'Osteoarthristis', 'Arthritis',\n",
       "       '(vertigo) Paroymsal  Positional Vertigo', 'Acne',\n",
       "       'Urinary tract infection', 'Psoriasis', 'Impetigo'], dtype=object)"
      ]
     },
     "execution_count": 4,
     "metadata": {},
     "output_type": "execute_result"
    }
   ],
   "source": [
    "df_dis['prognosis'].unique()"
   ]
  },
  {
   "cell_type": "code",
   "execution_count": 5,
   "metadata": {},
   "outputs": [
    {
     "data": {
      "text/plain": [
       "array([\"'Fungal infection|Allergy|GERD|Chronic cholestasis|Drug Reaction|Peptic ulcer disease|AIDS|Diabetes |Gastroenteritis|Bronchial Asthma|Hypertension |Migraine|Cervical spondylosis|Paralysis (brain hemorrhage)|Jaundice|Malaria|Chicken pox|Dengue|Typhoid|hepatitis A|Hepatitis B|Hepatitis C|Hepatitis D|Hepatitis E|Alcoholic hepatitis|Tuberculosis|Common Cold|Pneumonia|Dimorphic hemorrhoids(piles)|Heart attack|Varicose veins|Hypothyroidism|Hyperthyroidism|Hypoglycemia|Osteoarthritis|Arthritis|(vertigo) Paroxysmal Positional Vertigo|Acne|Urinary tract infection|Psoriasis|Impetigo'\",\n",
       "       \"'Heart attack|Hypertension '\",\n",
       "       \"'Chronic cholestasis|Hepatitis A|Hepatitis B|Hepatitis C|Hepatitis D|Hepatitis E|Alcoholic hepatitis'\",\n",
       "       \"'Heart attack|Hypertension'\", \"'Arthritis|Osteoarthritis'\",\n",
       "       \"'Diabetes |Hypothyroidism|Hyperthyroidism|Hypoglycemia'\",\n",
       "       \"'Migraine|Paralysis (brain hemorrhage)|(vertigo) Paroxysmal Positional Vertigo'\",\n",
       "       \"'Hypertension |Urinary tract infection'\",\n",
       "       \"'Arthritis|Osteoarthritis|Diabetes |Heart attack|Hypertension '\",\n",
       "       \"'Diabetes |Hypoglycemia'\", \"'Common Cold'\",\n",
       "       \"'Diabetes |Hypertension |Urinary tract infection'\",\n",
       "       \"'GERD|Chronic cholestasis|Peptic ulcer disease|Gastroenteritis'\",\n",
       "       \"'Hypothyroidism|Hyperthyroidism|Hypoglycemia'\",\n",
       "       \"'Hypothyroidism|Hyperthyroidism'\",\n",
       "       \"'Gynaecology|Gynae Oncology|Urinary tract infection'\",\n",
       "       \"'Cervical spondylosis|Paralysis (brain hemorrhage)|Osteoarthritis|Arthritis'\"],\n",
       "      dtype=object)"
      ]
     },
     "execution_count": 5,
     "metadata": {},
     "output_type": "execute_result"
    }
   ],
   "source": [
    "df_map['Diseases'].unique()"
   ]
  },
  {
   "cell_type": "code",
   "execution_count": 70,
   "metadata": {},
   "outputs": [
    {
     "name": "stdout",
     "output_type": "stream",
     "text": [
      "Common Cold\n"
     ]
    },
    {
     "data": {
      "text/plain": [
       "['Medicine', 'Haematology']"
      ]
     },
     "execution_count": 70,
     "metadata": {},
     "output_type": "execute_result"
    }
   ],
   "source": [
    "disease = \"Common Cold\"\n",
    "\n",
    "\n",
    "print(disease)\n",
    "\n",
    "def get_specialist(disease):\n",
    "    disease = disease.lower()\n",
    "    df_filtered = df_map[df_map['Diseases'].str.lower().str.contains(disease)]\n",
    "    specialist = df_filtered['Specialities'].str.split(', ').tolist()\n",
    "    unique_specialist = set(item for sublist in specialist for item in sublist)\n",
    "    \n",
    "    return list(unique_specialist)\n",
    "\n",
    "sp = get_specialist(disease)\n",
    "sp"
   ]
  },
  {
   "cell_type": "code",
   "execution_count": 63,
   "metadata": {},
   "outputs": [
    {
     "name": "stdout",
     "output_type": "stream",
     "text": [
      "DID                                            PDC-1\n",
      "Name            PROF. DR. MD. FAYJUL ISLAM CHOWDHURY\n",
      "Designation         MBBS, FCPS (Medicine), PHD (USA)\n",
      "Specialities                                Medicine\n",
      "Branch                                           NaN\n",
      "Name: 0, dtype: object\n"
     ]
    }
   ],
   "source": [
    "\n",
    "def get_doctor_details(sp_list):\n",
    "    doctor_data = []\n",
    "    \n",
    "    for _, row in df_doctor.iterrows():\n",
    "        if any(specialty in row['Specialities'] for specialty in sp_list):\n",
    "            doctor_data.append(row)\n",
    "        \n",
    "        \n",
    "    return doctor_data\n",
    "\n",
    "print(get_doctor_details(sp)[0])"
   ]
  }
 ],
 "metadata": {
  "kernelspec": {
   "display_name": "Python 3",
   "language": "python",
   "name": "python3"
  },
  "language_info": {
   "codemirror_mode": {
    "name": "ipython",
    "version": 3
   },
   "file_extension": ".py",
   "mimetype": "text/x-python",
   "name": "python",
   "nbconvert_exporter": "python",
   "pygments_lexer": "ipython3",
   "version": "3.10.12"
  }
 },
 "nbformat": 4,
 "nbformat_minor": 2
}
